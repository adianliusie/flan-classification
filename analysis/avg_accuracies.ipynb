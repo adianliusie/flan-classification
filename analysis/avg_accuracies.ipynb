{
 "cells": [
  {
   "cell_type": "code",
   "execution_count": 1,
   "metadata": {},
   "outputs": [
    {
     "name": "stderr",
     "output_type": "stream",
     "text": [
      "/rds/user/al826/hpc-work/envs/torch1.12/lib/python3.8/site-packages/tqdm/auto.py:22: TqdmWarning: IProgress not found. Please update jupyter and ipywidgets. See https://ipywidgets.readthedocs.io/en/stable/user_install.html\n",
      "  from .autonotebook import tqdm as notebook_tqdm\n",
      "Found cached dataset snli (/home/al826/rds/hpc-work/envs/.cache/huggingface/datasets/snli/plain_text/1.0.0/1f60b67533b65ae0275561ff7828aad5ee4282d0e6f844fd148d05d3c6ea251b)\n",
      "100%|██████████████████████████████████████████████████████████████████| 3/3 [00:00<00:00, 23.65it/s]\n",
      "100%|████████████████████████████████████████████████████████████████| 1/1 [00:00<00:00, 1940.91it/s]\n",
      "100%|████████████████████████████████████████████████████████████████| 1/1 [00:00<00:00, 1245.71it/s]\n",
      "100%|█████████████████████████████████████████████████████████████████| 1/1 [00:00<00:00, 355.36it/s]\n",
      "100%|████████████████████████████████████████████████████████████████| 1/1 [00:00<00:00, 1737.49it/s]\n",
      "100%|████████████████████████████████████████████████████████████████| 1/1 [00:00<00:00, 1871.62it/s]\n",
      "100%|████████████████████████████████████████████████████████████████| 1/1 [00:00<00:00, 1903.91it/s]\n"
     ]
    }
   ],
   "source": [
    "from logits_reader import LogitsReader\n",
    "\n",
    "dataset = 'snli'\n",
    "base_path = f\"/home/al826/rds/hpc-work/2023/prompts/calib/search/submit/outputs/flan-t5-large\"\n",
    "\n",
    "all_prompt_outputs = []\n",
    "for prompt_num in range(0,6):\n",
    "    path = f\"{base_path}/{dataset}/prompt_{prompt_num}\"\n",
    "    logits_reader = LogitsReader(path=path, dataset=dataset)\n",
    "    prompt_outputs = logits_reader.label_words_box_plot_data(prompt_num=prompt_num)\n",
    "    all_prompt_outputs += prompt_outputs\n"
   ]
  },
  {
   "cell_type": "code",
   "execution_count": 2,
   "metadata": {},
   "outputs": [
    {
     "name": "stdout",
     "output_type": "stream",
     "text": [
      "null-norm 60.2 14.4\n"
     ]
    }
   ],
   "source": [
    "from collections import defaultdict\n",
    "import numpy as np\n",
    "\n",
    "methods = defaultdict(list)\n",
    "\n",
    "for ex in all_prompt_outputs:\n",
    "    methods[ex['probs']].append(ex['acc'])\n",
    "\n",
    "for k, v in methods.items():\n",
    "    print(k, round(np.mean(v), 1), round(np.std(v), 1))\n"
   ]
  },
  {
   "cell_type": "code",
   "execution_count": 3,
   "metadata": {},
   "outputs": [
    {
     "name": "stderr",
     "output_type": "stream",
     "text": [
      "Found cached dataset glue (/home/al826/rds/hpc-work/envs/.cache/huggingface/datasets/glue/mnli/1.0.0/dacbe3125aa31d7f70367a07a8a9e72a5a0bfeb5fc42e75c9db75b96da6053ad)\n",
      "100%|██████████████████████████████████████████████████████████████████| 5/5 [00:00<00:00, 10.58it/s]\n",
      "100%|████████████████████████████████████████████████████████████████| 1/1 [00:00<00:00, 1925.76it/s]\n",
      "100%|████████████████████████████████████████████████████████████████| 1/1 [00:00<00:00, 1669.71it/s]\n",
      "100%|█████████████████████████████████████████████████████████████████| 1/1 [00:00<00:00, 818.56it/s]\n",
      "100%|████████████████████████████████████████████████████████████████| 1/1 [00:00<00:00, 1673.70it/s]\n",
      "100%|████████████████████████████████████████████████████████████████| 1/1 [00:00<00:00, 1639.04it/s]\n",
      "100%|████████████████████████████████████████████████████████████████| 1/1 [00:00<00:00, 1160.25it/s]\n"
     ]
    }
   ],
   "source": [
    "from logits_reader import LogitsReader\n",
    "\n",
    "dataset = 'mnli'\n",
    "base_path = f\"/home/al826/rds/hpc-work/2023/prompts/calib/search/submit/outputs/flan-t5-large\"\n",
    "\n",
    "all_prompt_outputs = []\n",
    "for prompt_num in range(0,6): \n",
    "    path = f\"{base_path}/{dataset}/prompt_{prompt_num}\"\n",
    "    logits_reader = LogitsReader(path=path, dataset=dataset)\n",
    "    prompt_outputs = logits_reader.label_words_box_plot_data(prompt_num=prompt_num)\n",
    "    all_prompt_outputs += prompt_outputs\n"
   ]
  },
  {
   "cell_type": "code",
   "execution_count": 4,
   "metadata": {},
   "outputs": [
    {
     "name": "stdout",
     "output_type": "stream",
     "text": [
      "null-norm 55.9 12.2\n"
     ]
    }
   ],
   "source": [
    "from collections import defaultdict\n",
    "import numpy as np\n",
    "\n",
    "methods = defaultdict(list)\n",
    "\n",
    "for ex in all_prompt_outputs:\n",
    "    methods[ex['probs']].append(ex['acc'])\n",
    "\n",
    "for k, v in methods.items():\n",
    "    print(k, round(np.mean(v), 1), round(np.std(v), 1))\n"
   ]
  },
  {
   "cell_type": "code",
   "execution_count": null,
   "metadata": {},
   "outputs": [],
   "source": []
  }
 ],
 "metadata": {
  "kernelspec": {
   "display_name": "torch1.12",
   "language": "python",
   "name": "torch1.12"
  },
  "language_info": {
   "codemirror_mode": {
    "name": "ipython",
    "version": 3
   },
   "file_extension": ".py",
   "mimetype": "text/x-python",
   "name": "python",
   "nbconvert_exporter": "python",
   "pygments_lexer": "ipython3",
   "version": "3.8.2"
  }
 },
 "nbformat": 4,
 "nbformat_minor": 4
}
